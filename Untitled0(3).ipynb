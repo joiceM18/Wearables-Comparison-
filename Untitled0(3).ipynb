{
  "nbformat": 4,
  "nbformat_minor": 0,
  "metadata": {
    "colab": {
      "provenance": []
    },
    "kernelspec": {
      "name": "python3",
      "display_name": "Python 3"
    },
    "language_info": {
      "name": "python"
    }
  },
  "cells": [
    {
      "cell_type": "code",
      "execution_count": null,
      "metadata": {
        "id": "jSw2B9dFRgJu"
      },
      "outputs": [],
      "source": [
        "import pandas as pd"
      ]
    },
    {
      "cell_type": "markdown",
      "source": [
        "function that takes in the device name, start time, end time, and output file name"
      ],
      "metadata": {
        "id": "JuA368wbR1pe"
      }
    },
    {
      "cell_type": "code",
      "source": [
        "def extract_device_data(device_name, start_time, end_time, output_file):\n",
        "    # Load datasets (files that we have)\n",
        "    oura_df = pd.read_csv('oura.csv', parse_dates=['timestamp'])\n",
        "    mz3_df = pd.read_csv('mz3.csv', parse_dates=['Time'])\n",
        "    empatica_df = pd.read_csv('empatica.csv', parse_dates=['minute'])\n",
        "\n",
        "    # Standardize column names so that when we Filter data, it is easier to call columns 'timestamp'\n",
        "    oura_df.rename(columns={'timestamp': 'Timestamp'}, inplace=True)\n",
        "    mz3_df.rename(columns={'Time': 'Timestamp'}, inplace=True)\n",
        "    empatica_df.rename(columns={'minute': 'Timestamp'}, inplace=True)\n",
        "\n",
        "    # Remove timezone info if present\n",
        "    for df in [oura_df, mz3_df, empatica_df]:\n",
        "        df['Timestamp'] = df['Timestamp'].dt.tz_localize(None)\n",
        "\n",
        "    # Set Timestamp as index\n",
        "    oura_df.set_index('Timestamp', inplace=True)\n",
        "    mz3_df.set_index('Timestamp', inplace=True)\n",
        "    empatica_df.set_index('Timestamp', inplace=True)\n",
        "\n",
        "    # Dictionary mapping device names to their corresponding data and column name\n",
        "    devices = {\n",
        "        'oura': (oura_df, 'bpm'),\n",
        "        'mz3': (mz3_df, 'hr'),\n",
        "        'empatica': (empatica_df, 'entry_count')\n",
        "    }\n",
        "\n",
        "    if device_name not in devices:\n",
        "        print(\"Invalid device name. Choose from: oura, mz3, empatica\")\n",
        "        return\n",
        "\n",
        "    df, col_name = devices[device_name]\n",
        "\n",
        "    # Resample and compute statistics\n",
        "    df_resampled = df.resample('3min').agg({col_name: ['mean', 'max', 'min', 'std']})\n",
        "    df_resampled.columns = ['mean', 'max', 'min', 'std']\n",
        "\n",
        "    # Filter by the specified time range\n",
        "    filtered_data = df_resampled.loc[start_time:end_time].reset_index()\n",
        "    filtered_data['date'] = filtered_data['Timestamp'].dt.date\n",
        "\n",
        "    # Save to CSV\n",
        "    filtered_data.to_csv(output_file, index=False)\n",
        "    print(f\"Extracted data saved to {output_file}\")\n",
        "\n",
        "# Example usage in Google Colab:\n",
        "device = 'oura'  # Change to 'mz3' or 'empatica' as needed\n",
        "start_time = '2024-01-22 05:36:00'\n",
        "end_time = '2024-01-22 06:06:00'\n",
        "output_file = 'output.csv'\n",
        "\n",
        "extract_device_data(device, start_time, end_time, output_file)"
      ],
      "metadata": {
        "colab": {
          "base_uri": "https://localhost:8080/",
          "height": 298
        },
        "id": "UYYi3bHQiVJ8",
        "outputId": "dedc81c4-787d-42b2-9429-2fce947a936d"
      },
      "execution_count": 2,
      "outputs": [
        {
          "output_type": "error",
          "ename": "NameError",
          "evalue": "name 'pd' is not defined",
          "traceback": [
            "\u001b[0;31m---------------------------------------------------------------------------\u001b[0m",
            "\u001b[0;31mNameError\u001b[0m                                 Traceback (most recent call last)",
            "\u001b[0;32m<ipython-input-2-9bde1b57d34b>\u001b[0m in \u001b[0;36m<cell line: 0>\u001b[0;34m()\u001b[0m\n\u001b[1;32m     50\u001b[0m \u001b[0moutput_file\u001b[0m \u001b[0;34m=\u001b[0m \u001b[0;34m'output.csv'\u001b[0m\u001b[0;34m\u001b[0m\u001b[0;34m\u001b[0m\u001b[0m\n\u001b[1;32m     51\u001b[0m \u001b[0;34m\u001b[0m\u001b[0m\n\u001b[0;32m---> 52\u001b[0;31m \u001b[0mextract_device_data\u001b[0m\u001b[0;34m(\u001b[0m\u001b[0mdevice\u001b[0m\u001b[0;34m,\u001b[0m \u001b[0mstart_time\u001b[0m\u001b[0;34m,\u001b[0m \u001b[0mend_time\u001b[0m\u001b[0;34m,\u001b[0m \u001b[0moutput_file\u001b[0m\u001b[0;34m)\u001b[0m\u001b[0;34m\u001b[0m\u001b[0;34m\u001b[0m\u001b[0m\n\u001b[0m",
            "\u001b[0;32m<ipython-input-2-9bde1b57d34b>\u001b[0m in \u001b[0;36mextract_device_data\u001b[0;34m(device_name, start_time, end_time, output_file)\u001b[0m\n\u001b[1;32m      1\u001b[0m \u001b[0;32mdef\u001b[0m \u001b[0mextract_device_data\u001b[0m\u001b[0;34m(\u001b[0m\u001b[0mdevice_name\u001b[0m\u001b[0;34m,\u001b[0m \u001b[0mstart_time\u001b[0m\u001b[0;34m,\u001b[0m \u001b[0mend_time\u001b[0m\u001b[0;34m,\u001b[0m \u001b[0moutput_file\u001b[0m\u001b[0;34m)\u001b[0m\u001b[0;34m:\u001b[0m\u001b[0;34m\u001b[0m\u001b[0;34m\u001b[0m\u001b[0m\n\u001b[1;32m      2\u001b[0m     \u001b[0;31m# Load datasets (files that we have)\u001b[0m\u001b[0;34m\u001b[0m\u001b[0;34m\u001b[0m\u001b[0m\n\u001b[0;32m----> 3\u001b[0;31m     \u001b[0moura_df\u001b[0m \u001b[0;34m=\u001b[0m \u001b[0mpd\u001b[0m\u001b[0;34m.\u001b[0m\u001b[0mread_csv\u001b[0m\u001b[0;34m(\u001b[0m\u001b[0;34m'oura.csv'\u001b[0m\u001b[0;34m,\u001b[0m \u001b[0mparse_dates\u001b[0m\u001b[0;34m=\u001b[0m\u001b[0;34m[\u001b[0m\u001b[0;34m'timestamp'\u001b[0m\u001b[0;34m]\u001b[0m\u001b[0;34m)\u001b[0m\u001b[0;34m\u001b[0m\u001b[0;34m\u001b[0m\u001b[0m\n\u001b[0m\u001b[1;32m      4\u001b[0m     \u001b[0mmz3_df\u001b[0m \u001b[0;34m=\u001b[0m \u001b[0mpd\u001b[0m\u001b[0;34m.\u001b[0m\u001b[0mread_csv\u001b[0m\u001b[0;34m(\u001b[0m\u001b[0;34m'mz3.csv'\u001b[0m\u001b[0;34m,\u001b[0m \u001b[0mparse_dates\u001b[0m\u001b[0;34m=\u001b[0m\u001b[0;34m[\u001b[0m\u001b[0;34m'Time'\u001b[0m\u001b[0;34m]\u001b[0m\u001b[0;34m)\u001b[0m\u001b[0;34m\u001b[0m\u001b[0;34m\u001b[0m\u001b[0m\n\u001b[1;32m      5\u001b[0m     \u001b[0mempatica_df\u001b[0m \u001b[0;34m=\u001b[0m \u001b[0mpd\u001b[0m\u001b[0;34m.\u001b[0m\u001b[0mread_csv\u001b[0m\u001b[0;34m(\u001b[0m\u001b[0;34m'empatica.csv'\u001b[0m\u001b[0;34m,\u001b[0m \u001b[0mparse_dates\u001b[0m\u001b[0;34m=\u001b[0m\u001b[0;34m[\u001b[0m\u001b[0;34m'minute'\u001b[0m\u001b[0;34m]\u001b[0m\u001b[0;34m)\u001b[0m\u001b[0;34m\u001b[0m\u001b[0;34m\u001b[0m\u001b[0m\n",
            "\u001b[0;31mNameError\u001b[0m: name 'pd' is not defined"
          ]
        }
      ]
    },
    {
      "cell_type": "code",
      "source": [],
      "metadata": {
        "id": "tvZs8xetR6RX"
      },
      "execution_count": null,
      "outputs": []
    }
  ]
}