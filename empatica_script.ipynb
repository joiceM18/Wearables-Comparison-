{
  "nbformat": 4,
  "nbformat_minor": 0,
  "metadata": {
    "colab": {
      "provenance": []
    },
    "kernelspec": {
      "name": "python3",
      "display_name": "Python 3"
    },
    "language_info": {
      "name": "python"
    }
  },
  "cells": [
    {
      "cell_type": "markdown",
      "source": [
        "imoprt libraries and make sure we can read datetime"
      ],
      "metadata": {
        "id": "BoTKwld05GrR"
      }
    },
    {
      "cell_type": "code",
      "execution_count": 1,
      "metadata": {
        "id": "ZOkgzmzYNNXW"
      },
      "outputs": [],
      "source": [
        "import pandas as pd\n",
        "from datetime import datetime"
      ]
    },
    {
      "cell_type": "markdown",
      "source": [
        "copy file path to be able to open file from computer path"
      ],
      "metadata": {
        "id": "LM45CoYP5YuK"
      }
    },
    {
      "cell_type": "code",
      "source": [
        "#Load the CSV file\n",
        "file_path = \"/content/sps.csv\" # Update this to the path of your CSV file\n",
        "data = pd.read_csv(file_path)"
      ],
      "metadata": {
        "id": "FDPFq_VGODAy"
      },
      "execution_count": 3,
      "outputs": []
    },
    {
      "cell_type": "code",
      "source": [
        "print(data['systolic_peak_timestamp'].dtype)\n",
        "data['systolic_peak_timestamp'] = pd.to_numeric(data['systolic_peak_timestamp'], errors='coerce')\n",
        "data = data.dropna(subset=['systolic_peak_timestamp'])\n"
      ],
      "metadata": {
        "colab": {
          "base_uri": "https://localhost:8080/"
        },
        "id": "6DCOW5TsGBTm",
        "outputId": "48d58634-0a75-4fea-ebaf-2ba56fa95554"
      },
      "execution_count": 4,
      "outputs": [
        {
          "output_type": "stream",
          "name": "stdout",
          "text": [
            "int64\n"
          ]
        }
      ]
    },
    {
      "cell_type": "code",
      "source": [
        "# Convert Unix timestamps from nanoseconds to human-readable datetime\n",
        "data['readable_datetime'] = data['systolic_peak_timestamp'].apply(\n",
        "    lambda x: datetime.utcfromtimestamp(x / 1e9).strftime('%Y-%m-%d %H:%M:%S.%f')\n",
        ")\n"
      ],
      "metadata": {
        "id": "6szewMly7Lrz"
      },
      "execution_count": 5,
      "outputs": []
    },
    {
      "cell_type": "code",
      "source": [
        "# Save the processed file\n",
        "output_path = \"systolic_peak_processed.csv\"  # Update this to your desired output path\n",
        "data.to_csv(output_path, index=False)"
      ],
      "metadata": {
        "id": "hU1Cm9vi7V3g"
      },
      "execution_count": 6,
      "outputs": []
    },
    {
      "cell_type": "code",
      "source": [
        "# Preview the first few rows\n",
        "print(data.head())"
      ],
      "metadata": {
        "colab": {
          "base_uri": "https://localhost:8080/"
        },
        "id": "cd49XLZ28TdF",
        "outputId": "114b3b96-482b-4272-8ef1-e427f78161a1"
      },
      "execution_count": 7,
      "outputs": [
        {
          "output_type": "stream",
          "name": "stdout",
          "text": [
            "   systolic_peak_timestamp           readable_datetime\n",
            "0      1706314452436737143  2024-01-27 00:14:12.436737\n",
            "1      1706314453092975670  2024-01-27 00:14:13.092976\n",
            "2      1706314453721613746  2024-01-27 00:14:13.721614\n",
            "3      1706314454259211789  2024-01-27 00:14:14.259212\n",
            "4      1706314454986003560  2024-01-27 00:14:14.986003\n"
          ]
        }
      ]
    },
    {
      "cell_type": "code",
      "source": [
        "# Create a new column for minute-level grouping\n",
        "data['minute'] = data['systolic_peak_timestamp'].apply(\n",
        "    lambda x: datetime.utcfromtimestamp(x / 1e9).strftime('%Y-%m-%d %H:%M')\n",
        ")\n"
      ],
      "metadata": {
        "id": "VOpfPoD_9MT5"
      },
      "execution_count": 8,
      "outputs": []
    },
    {
      "cell_type": "code",
      "source": [
        "# Group by 'minute' and count the entries\n",
        "minute_counts = data.groupby('minute').size().reset_index(name='entry_count')"
      ],
      "metadata": {
        "id": "i85vNGdEOopl"
      },
      "execution_count": 9,
      "outputs": []
    },
    {
      "cell_type": "code",
      "source": [
        "# Merge the counts back into the original data for reference\n",
        "data = data.merge(minute_counts, on='minute', how='left')\n",
        "\n",
        "# Save the result to a new file\n",
        "output_path = \"systolic_peak_per_minute.csv\"  # Update this to your desired output path\n",
        "data.to_csv(output_path, index=False)"
      ],
      "metadata": {
        "id": "MeNJNYt1veKj"
      },
      "execution_count": 10,
      "outputs": []
    },
    {
      "cell_type": "code",
      "source": [
        "print(minute_counts.head())"
      ],
      "metadata": {
        "id": "4qU5pB0FPbgs",
        "colab": {
          "base_uri": "https://localhost:8080/"
        },
        "outputId": "da886d1d-8287-434f-f494-166c5a09ab35"
      },
      "execution_count": 11,
      "outputs": [
        {
          "output_type": "stream",
          "name": "stdout",
          "text": [
            "             minute  entry_count\n",
            "0  2024-01-27 00:14           80\n",
            "1  2024-01-27 00:15           89\n",
            "2  2024-01-27 00:16          104\n",
            "3  2024-01-27 00:17           73\n",
            "4  2024-01-27 00:18           93\n"
          ]
        }
      ]
    },
    {
      "cell_type": "markdown",
      "source": [
        "### read data, convert it into timestamp, it is a 24 hour"
      ],
      "metadata": {
        "id": "luxEwXCNRJQT"
      }
    },
    {
      "cell_type": "code",
      "source": [
        "# Save a simplified DataFrame with only 'minute' and 'entry_count' columns\n",
        "minute_counts.to_csv(\"systolic_peak_minute_counts.csv\", index=False)"
      ],
      "metadata": {
        "id": "10vC7HUivIMX"
      },
      "execution_count": 12,
      "outputs": []
    },
    {
      "cell_type": "code",
      "source": [],
      "metadata": {
        "id": "h3B0wl3PDSzR"
      },
      "execution_count": null,
      "outputs": []
    }
  ]
}